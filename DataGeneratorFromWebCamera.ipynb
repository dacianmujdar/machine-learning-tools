{
 "cells": [
  {
   "cell_type": "markdown",
   "metadata": {},
   "source": [
    "# Data Generator from web camera using OpenCV \n",
    "\n",
    "Creates a folder of images by capturing frames from video camera. \n",
    "Starts by defining a region of interest (rectangular area) which will be extracted from the frame. \n",
    "\n",
    "After an optional processing, the image is stored in a subfolder with the label name. \n",
    "Needs to be executed for every label in the dataset\n"
   ]
  },
  {
   "cell_type": "code",
   "execution_count": null,
   "metadata": {},
   "outputs": [],
   "source": [
    "import cv2\n",
    "import matplotlib.pyplot as plt\n",
    "import time"
   ]
  },
  {
   "cell_type": "code",
   "execution_count": null,
   "metadata": {},
   "outputs": [],
   "source": [
    "LABEL = 'a'\n",
    "DATA_LENGTH = 1000\n",
    "\n",
    "filepath = 'data_test/' + LABEL + '/'\n",
    "\n",
    "# Set a region of interest here \n",
    "x_left, x_right = (1000, 1250)\n",
    "y_left, y_right = (300, 500)\n",
    "\n",
    "# The interval of time between 2 frames (1 = one second)\n",
    "FRAME_INTERVAL = 0.1"
   ]
  },
  {
   "cell_type": "code",
   "execution_count": null,
   "metadata": {},
   "outputs": [],
   "source": [
    "def process_image(image):\n",
    "    \n",
    "    # <--- Add preprocessing image here (resize, graycolor, etc) --> \n",
    "    \n",
    "    return image"
   ]
  },
  {
   "cell_type": "code",
   "execution_count": null,
   "metadata": {},
   "outputs": [],
   "source": [
    "cap = cv2.VideoCapture(0)\n",
    "\n",
    "# We start this from a negative value to give us some time for preparation before the record start \n",
    "index = -50\n",
    "cv2.startWindowThread()\n",
    "\n",
    "while True:\n",
    "    try:  \n",
    "        # read the frame\n",
    "        _, frame = cap.read()\n",
    "    \n",
    "        # define region of interest\n",
    "        roi = frame[y_left:y_right, x_left:x_right]\n",
    "\n",
    "        # add a green rectangle on the frame to mark the region of interest                \n",
    "        cv2.rectangle(frame, (x_left, y_left),\n",
    "                      (x_right, y_right), (0, 255, 0), 0)\n",
    "\n",
    "        processed_image = process_image(roi)\n",
    "        \n",
    "        # show the windows\n",
    "        cv2.imshow('frame',frame)\n",
    "        cv2.imshow('image',processed_image)\n",
    "         \n",
    "        index += 1\n",
    "        if index > 0:\n",
    "            cv2.imwrite(filepath + str(index) + '.jpg', processed_image)\n",
    "        \n",
    "        if index == DATA_LENGTH:\n",
    "            break\n",
    "        print (\"tick\" + str(index))\n",
    "        \n",
    "        time.sleep(FRAME_INTERVAL)\n",
    "    except Exception as e:\n",
    "        pass\n",
    "        \n",
    "    k = cv2.waitKey(5) & 0xFF\n",
    "    if k == 27:\n",
    "        break\n",
    "    \n",
    "cv2.destroyAllWindows()\n",
    "cap.release()"
   ]
  }
 ],
 "metadata": {
  "kernelspec": {
   "display_name": "Python 3",
   "language": "python",
   "name": "python3"
  },
  "language_info": {
   "codemirror_mode": {
    "name": "ipython",
    "version": 3.0
   },
   "file_extension": ".py",
   "mimetype": "text/x-python",
   "name": "python",
   "nbconvert_exporter": "python",
   "pygments_lexer": "ipython3",
   "version": "3.6.6"
  }
 },
 "nbformat": 4,
 "nbformat_minor": 0
}